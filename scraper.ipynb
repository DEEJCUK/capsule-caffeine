{
 "metadata": {
  "language_info": {
   "codemirror_mode": {
    "name": "ipython",
    "version": 3
   },
   "file_extension": ".py",
   "mimetype": "text/x-python",
   "name": "python",
   "nbconvert_exporter": "python",
   "pygments_lexer": "ipython3",
   "version": "3.7.7-final"
  },
  "orig_nbformat": 2,
  "kernelspec": {
   "name": "python3",
   "display_name": "Python 3",
   "language": "python"
  }
 },
 "nbformat": 4,
 "nbformat_minor": 2,
 "cells": [
  {
   "source": [
    "import requests\n",
    "from bs4 import BeautifulSoup\n",
    "import json\n",
    "import re\n",
    "\n",
    "domain = 'https://nespresso.com'\n",
    "\n",
    "def getJsonFromPageWithQuery(URL, selector):\n",
    "    page = requests.get(URL)\n",
    "    soup = BeautifulSoup(page.content, 'html.parser')\n",
    "    tag = str(soup.select(selector)[0])\n",
    "    json_string = tag[tag.find(\"{\"):tag.rfind(\"}\")+1]\n",
    "    return json.loads(json_string)"
   ],
   "cell_type": "code",
   "metadata": {
    "tags": []
   },
   "execution_count": null,
   "outputs": []
  },
  {
   "cell_type": "code",
   "execution_count": null,
   "metadata": {
    "tags": []
   },
   "outputs": [],
   "source": [
    "main_list = getJsonFromPageWithQuery('https://nespresso.com/tw/en/order/capsules', 'div[id^=respProductListPLPCapsule]+script')\n",
    "\n",
    "products = main_list['configuration']['eCommerceData']['products']\n",
    "len(products)\n",
    "categories = main_list['configuration']['eCommerceData']['categories']\n",
    "\n",
    "excluded_range_ids = ['nesclub2.tw.b2c/cat/capsule-range-limited-edition-b2c', 'nesclub2.tw.b2c/cat/capsule-range-assortment']\n",
    "capsule_ranges = [x for x in categories if ('nesclub2.tw.b2c/cat/capsule-range' in x['superCategories'] and x['id'] not in excluded_range_ids)]\n",
    "\n",
    "simple_data = dict()\n",
    "for range in capsule_ranges:\n",
    "    print('Current range: %s' % range['name'])\n",
    "        \n",
    "    # initialise array for items in this range\n",
    "    range_items = dict()\n",
    "\n",
    "    # grab items from the category \n",
    "    items = [x for x in products if range['id'] in x['ranges'] and x['type'] == 'capsule' and x['unitQuantity'] == 1]\n",
    "\n",
    "    # grab the detailed JSON from the item's own page\n",
    "    for item in items:\n",
    "        print('Current capsule: %s' % item['name'])\n",
    "\n",
    "        URL = domain+item['url']\n",
    "        item_info = getJsonFromPageWithQuery(URL, 'div[id^=respProductDetailPDPCapsule]+script')\n",
    "        product = item_info['configuration']['eCommerceData']['product']\n",
    "\n",
    "        # extract properties\n",
    "        description = [x['text'] for x in product['ingredients']]\n",
    "        caffeine_mg = int(re.findall(r'(\\d+)\\s?mg',str(description))[0])\n",
    "        image_url = domain+product['image']['url']\n",
    "\n",
    "        # write item properties to output\n",
    "        range_items[product['name']] = dict([('caffeine_mg', caffeine_mg), ('image_url', image_url)])\n",
    "\n",
    "    # write all data for this range\n",
    "    simple_data[range['name']] = range_items\n",
    "\n",
    "with open('data.json', 'w') as outfile:\n",
    "    json.dump(simple_data, outfile)\n"
   ]
  }
 ]
}