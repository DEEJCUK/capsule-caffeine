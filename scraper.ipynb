{
 "cells": [
  {
   "cell_type": "code",
   "execution_count": 2,
   "metadata": {
    "tags": []
   },
   "outputs": [],
   "source": [
    "import requests\n",
    "from requests.adapters import HTTPAdapter\n",
    "from requests.packages.urllib3.util.retry import Retry\n",
    "from bs4 import BeautifulSoup\n",
    "import json\n",
    "import re\n",
    "\n",
    "domain = 'https://nespresso.com'\n",
    "\n",
    "# Configure session with retries\n",
    "session = requests.Session()\n",
    "retries = Retry(total=5, backoff_factor=1, status_forcelist=[500, 502, 503, 504])\n",
    "session.mount('https://', HTTPAdapter(max_retries=retries))\n",
    "\n",
    "def getJsonFromPageWithQuery(URL, selector):\n",
    "    headers = {\n",
    "        \"User-Agent\": \"Mozilla/5.0 (Windows NT 10.0; Win64; x64) AppleWebKit/537.36 (KHTML, like Gecko) Chrome/91.0.4472.124 Safari/537.36\"\n",
    "    }\n",
    "    page = session.get(URL, headers=headers, timeout=10)\n",
    "    if page.status_code != 200:\n",
    "        raise ValueError(f\"Failed to fetch URL: {URL}, Status Code: {page.status_code}\")\n",
    "    soup = BeautifulSoup(page.content, 'html.parser')\n",
    "    tags = soup.select(selector)\n",
    "    if not tags:\n",
    "        raise ValueError(f\"Selector '{selector}' not found on the page.\")\n",
    "    tag = str(tags[0])\n",
    "    json_string = tag[tag.find(\"{\"):tag.rfind(\"}\")+1]\n",
    "    return json.loads(json_string)"
   ]
  },
  {
   "cell_type": "code",
   "execution_count": 3,
   "metadata": {},
   "outputs": [],
   "source": [
    "main_list = getJsonFromPageWithQuery('https://nespresso.com/tw/en/order/capsules/vertuo', 'div[id^=respProductListPLPCapsule]+script')\n",
    "\n",
    "products = main_list.get('configuration', {}).get('eCommerceData', {}).get('products', [])\n",
    "if not products:\n",
    "    raise ValueError(\"No products found in the JSON data.\")\n",
    "\n",
    "categories = main_list.get('configuration', {}).get('eCommerceData', {}).get('categories', [])\n",
    "excluded_range_ids = ['nesclub2.tw.b2c/cat/capsule-range-limited-edition-b2c', 'nesclub2.tw.b2c/cat/capsule-range-assortment']\n",
    "capsule_ranges = [x for x in categories if ('nesclub2.tw.b2c/cat/capsule-range' in x['superCategories'] and x['id'] not in excluded_range_ids)]"
   ]
  },
  {
   "cell_type": "code",
   "execution_count": null,
   "metadata": {},
   "outputs": [
    {
     "name": "stdout",
     "output_type": "stream",
     "text": [
      "Current range: Summer Selection\n",
      "Current capsule: Coconut Vanilla Flavour Over Ice\n",
      "Current capsule: Ice Leggero\n",
      "Current capsule: Cold Brew Style Intense\n",
      "Current range: Assortment\n",
      "Current range: Barista Creations\n",
      "Current capsule: Roasted Hazelnut\n",
      "Current capsule: Sweet Vanilla\n",
      "Current capsule: Sweet Vanilla Decaffeinato\n",
      "Current capsule: Golden Caramel\n",
      "Current capsule: Rich Chocolate\n",
      "Current capsule: Bianco Forte\n",
      "Current capsule: Bianco Doppio\n",
      "Current capsule: Bianco Piccolo\n",
      "Current range: Coffee\n",
      "Current capsule: Alto Onice\n",
      "Current capsule: Alto Ambrato\n",
      "Current capsule: Intenso\n",
      "Current capsule: Odacio\n",
      "Current capsule: Stormio\n",
      "Current capsule: Melozio\n",
      "Current capsule: Solelio\n",
      "Current capsule: Half Caffeinato\n",
      "Current capsule: Melozio Decaffeinato\n",
      "Current capsule: Ethiopia\n",
      "Current capsule: Costa Rica\n",
      "Current capsule: Colombia\n",
      "Current capsule: Mexico \n",
      "Current capsule: El Salvador\n",
      "Current capsule: Inizio\n",
      "Current capsule: Arondio\n",
      "Current capsule: Fortado\n",
      "Current capsule: Fortado Decaffeinato\n",
      "Current range: Coffee+\n",
      "Current capsule: Active\n",
      "Current capsule: Vivida\n",
      "Current capsule: Ginseng Delight\n",
      "Current range: Craft Brew\n",
      "Current capsule: Carafe Pour-Over Style Intense\n",
      "Current range: Espresso\n",
      "Current capsule: Ristretto Intenso\n",
      "Current capsule: Orafio\n",
      "Current capsule: Altissio Decaffeinato\n",
      "Current capsule: Altissio\n",
      "Current capsule: Diavolitto\n"
     ]
    }
   ],
   "source": [
    "simple_data = dict()\n",
    "for range in capsule_ranges:\n",
    "    print('Current range: %s' % range['name'])\n",
    "        \n",
    "    # Initialize array for items in this range\n",
    "    range_items = dict()\n",
    "\n",
    "    # Grab items from the category\n",
    "    items = [x for x in products if range['id'] in x['ranges'] and x['type'] == 'capsule' and x['unitQuantity'] == 1]\n",
    "\n",
    "    # Grab the detailed JSON from the item's own page\n",
    "    for item in items:\n",
    "        print('Current capsule: %s' % item['name'])\n",
    "\n",
    "        URL = domain + item['url']\n",
    "        item_info = getJsonFromPageWithQuery(URL, 'div[id^=respProductDetailPDPCapsule]+script')\n",
    "        product = item_info.get('configuration', {}).get('eCommerceData', {}).get('product', {})\n",
    "\n",
    "        # Extract properties\n",
    "        description = [x['text'] for x in product.get('ingredients', [])]\n",
    "        caffeine_matches = re.findall(r'(\\d+)\\s?mg', str(description))\n",
    "        caffeine_mg = int(caffeine_matches[0]) if caffeine_matches else None\n",
    "        image_url = domain + product.get('image', {}).get('url', '')\n",
    "\n",
    "        # Write item properties to output\n",
    "        range_items[product.get('name', 'Unknown')] = dict([('caffeine_mg', caffeine_mg), ('image_url', image_url)])\n",
    "\n",
    "    # Write all data for this range\n",
    "    simple_data[range['name']] = range_items"
   ]
  },
  {
   "cell_type": "code",
   "execution_count": null,
   "metadata": {},
   "outputs": [],
   "source": [
    "with open('data.json', 'w') as outfile:\n",
    "    json.dump(simple_data, outfile)"
   ]
  }
 ],
 "metadata": {
  "kernelspec": {
   "display_name": "Python 3",
   "language": "python",
   "name": "python3"
  },
  "language_info": {
   "codemirror_mode": {
    "name": "ipython",
    "version": 3
   },
   "file_extension": ".py",
   "mimetype": "text/x-python",
   "name": "python",
   "nbconvert_exporter": "python",
   "pygments_lexer": "ipython3",
   "version": "3.9.6"
  },
  "orig_nbformat": 2
 },
 "nbformat": 4,
 "nbformat_minor": 2
}
